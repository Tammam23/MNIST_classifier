{
  "cells": [
    {
      "cell_type": "code",
      "execution_count": null,
      "id": "651b5935-08fa-41af-9067-50569125a481",
      "metadata": {
        "id": "651b5935-08fa-41af-9067-50569125a481"
      },
      "outputs": [],
      "source": [
        "from fastai.vision.all import *"
      ]
    },
    {
      "cell_type": "code",
      "execution_count": null,
      "id": "918eb0d0-4b54-401f-a172-53699887c4a3",
      "metadata": {
        "id": "918eb0d0-4b54-401f-a172-53699887c4a3"
      },
      "outputs": [],
      "source": [
        "path = untar_data(URLs.MNIST)"
      ]
    },
    {
      "cell_type": "code",
      "execution_count": null,
      "id": "44f927d4-e344-4c8a-8474-a0168acd64b1",
      "metadata": {
        "id": "44f927d4-e344-4c8a-8474-a0168acd64b1",
        "outputId": "5dba42b1-9459-4228-fb2e-f93c53785839"
      },
      "outputs": [
        {
          "data": {
            "image/png": "[encoded data removed]",
            "text/plain": [
              "<Figure size 900x900 with 9 Axes>"
            ]
          },
          "metadata": {},
          "output_type": "display_data"
        }
      ],
      "source": [
        "data = DataBlock(blocks=(ImageBlock(cls=PILImageBW), CategoryBlock),\n",
        "                get_items=get_image_files,\n",
        "                get_y=parent_label,\n",
        "                splitter=RandomSplitter(valid_pct=0.2, seed=42),\n",
        "                item_tfms=Resize(28),\n",
        "                batch_tfms=aug_transforms())\n",
        "\n",
        "dls = data.dataloaders((path/\"training\"))\n",
        "dls.show_batch()"
      ]
    },
    {
      "cell_type": "code",
      "execution_count": null,
      "id": "e1480456-dc61-45e9-951b-0d0e3bf8d6e6",
      "metadata": {
        "id": "e1480456-dc61-45e9-951b-0d0e3bf8d6e6",
        "outputId": "fb8f767f-df9f-485f-c71f-3f1dd0662b97"
      },
      "outputs": [
        {
          "data": {
            "text/plain": [
              "(torch.Size([64, 1, 28, 28]), torch.Size([64]))"
            ]
          },
          "execution_count": 4,
          "metadata": {},
          "output_type": "execute_result"
        }
      ],
      "source": [
        "xb, yb = first(dls.valid)\n",
        "xb.shape, yb.shape\n"
      ]
    },
    {
      "cell_type": "code",
      "execution_count": null,
      "id": "a213ad8e-4e3d-4f32-8824-4895e868cf75",
      "metadata": {
        "id": "a213ad8e-4e3d-4f32-8824-4895e868cf75",
        "outputId": "6e540610-c3eb-42a5-abee-610c41c1d72c"
      },
      "outputs": [
        {
          "data": {
            "text/plain": [
              "(torch.Size([60000, 784]), torch.Size([60000, 1]))"
            ]
          },
          "execution_count": 12,
          "metadata": {},
          "output_type": "execute_result"
        }
      ],
      "source": [
        "train_digits_tensors = [torch.stack([tensor(Image.open(digit)).float()/255 for digit in digit_path.ls()]) for digit_path in (path/'training').ls()]\n",
        "train_x = torch.cat(train_digits_tensors).view(-1, 28*28)\n",
        "train_y = tensor([i for i, digit in enumerate(train_digits_tensors) for _ in range(len(digit))]).unsqueeze(1)\n",
        "train_x.shape, train_y.shape"
      ]
    },
    {
      "cell_type": "code",
      "execution_count": null,
      "id": "e05f7819-10eb-4359-80ef-9b11743474f0",
      "metadata": {
        "id": "e05f7819-10eb-4359-80ef-9b11743474f0",
        "outputId": "e9ee357f-3d1f-4907-b92c-31a69702e121"
      },
      "outputs": [
        {
          "data": {
            "text/plain": [
              "(torch.Size([10000, 784]), torch.Size([10000, 1]))"
            ]
          },
          "execution_count": 13,
          "metadata": {},
          "output_type": "execute_result"
        }
      ],
      "source": [
        "valid_digits_tensors = [torch.stack([tensor(Image.open(digit)).float()/255 for digit in digit_path.ls()]) for digit_path in (path/'testing').ls()]\n",
        "valid_x = torch.cat(valid_digits_tensors).view(-1, 28*28)\n",
        "valid_y = tensor([i for i, digit in enumerate(valid_digits_tensors) for _ in range(len(digit))]).unsqueeze(1)\n",
        "valid_x.shape, valid_y.shape"
      ]
    },
    {
      "cell_type": "code",
      "execution_count": null,
      "id": "9828457d-5262-4ac9-900e-13ecb80c8646",
      "metadata": {
        "id": "9828457d-5262-4ac9-900e-13ecb80c8646"
      },
      "outputs": [],
      "source": [
        "dset = list(zip(train_x, train_y))\n",
        "valid_dset = list(zip(valid_x, valid_y))\n",
        "dl = DataLoader(dset, batch_size=128)\n",
        "valid_dl = DataLoader(valid_dset, batch_size=128)"
      ]
    },
    {
      "cell_type": "code",
      "execution_count": null,
      "id": "69a34fea-02e4-40cf-80e7-303ec0bac63a",
      "metadata": {
        "id": "69a34fea-02e4-40cf-80e7-303ec0bac63a"
      },
      "outputs": [],
      "source": [
        "def init_parameters(shape, std=1):\n",
        "    return tensor(torch.randn(shape)*std).requires_grad_(), tensor(torch.randn(shape[1])*std).requires_grad_()"
      ]
    },
    {
      "cell_type": "code",
      "execution_count": null,
      "id": "2479a3c9-21f2-4a46-a9cc-74e48d3b78a7",
      "metadata": {
        "id": "2479a3c9-21f2-4a46-a9cc-74e48d3b78a7",
        "outputId": "cfbb6468-ee6b-4261-a364-21ea2cc5a91e"
      },
      "outputs": [
        {
          "data": {
            "text/plain": [
              "(tensor([[ 0.3142, -2.8707],\n",
              "         [ 0.6680,  0.6628],\n",
              "         [ 0.9832, -1.3665],\n",
              "         [-0.1982, -0.9454],\n",
              "         [-0.4072, -2.1041],\n",
              "         [ 1.1284, -0.8852]]),\n",
              " tensor([[0.9603, 0.0397],\n",
              "         [0.5013, 0.4987],\n",
              "         [0.9129, 0.0871],\n",
              "         [0.6786, 0.3214],\n",
              "         [0.8451, 0.1549],\n",
              "         [0.8822, 0.1178]]))"
            ]
          },
          "execution_count": 50,
          "metadata": {},
          "output_type": "execute_result"
        }
      ],
      "source": [
        "def softmax(z, dim=1):\n",
        "    return z.exp()/z.exp().sum(dim=dim, keepdim=True)\n",
        "acts = torch.randn((6, 2))*2\n",
        "pacts = softmax(acts)\n",
        "acts, pacts"
      ]
    },
    {
      "cell_type": "code",
      "execution_count": null,
      "id": "0bf6f32c-65d4-4ef8-8c56-46e8cb26c55c",
      "metadata": {
        "id": "0bf6f32c-65d4-4ef8-8c56-46e8cb26c55c",
        "outputId": "bb4c1711-dcc7-4c49-862a-6496a5f9be9a"
      },
      "outputs": [
        {
          "name": "stdout",
          "output_type": "stream",
          "text": [
            "Epoch        train loss        Train accuracy      Valid accuracy\n",
            "0     tensor(0.2593)            0.0995            0.1105\n",
            "1     tensor(0.0588)            0.0996            0.1109\n",
            "2     tensor(0.0332)            0.0997            0.1109\n",
            "3     tensor(0.0268)            0.1204            0.1304\n",
            "4     tensor(0.0237)            0.1513            0.1573\n",
            "5     tensor(0.0225)            0.1689            0.1766\n",
            "6     tensor(0.0223)            0.18            0.1861\n",
            "7     tensor(0.0207)            0.187            0.1921\n",
            "8     tensor(0.0187)            0.1891            0.1932\n",
            "9     tensor(0.0168)            0.1921            0.1943\n",
            "10     tensor(0.0153)            0.2033            0.202\n",
            "11     tensor(0.0147)            0.2175            0.2123\n",
            "12     tensor(0.0149)            0.2335            0.226\n",
            "13     tensor(0.0153)            0.2488            0.2387\n",
            "14     tensor(0.0158)            0.2634            0.2521\n"
          ]
        }
      ],
      "source": [
        "if torch.cuda.is_available():\n",
        "    torch.cuda.set_device(0)\n",
        "\n",
        "\n",
        "def mnist_loss(preds, target):\n",
        "    idx = range(len(target))\n",
        "    return (-torch.log(preds[idx, target])).mean()\n",
        "\n",
        "def batch_accuracy(preds, trgts):\n",
        "    preds = softmax(preds)\n",
        "    res = torch.round(preds[range(len(trgts)), trgts]).mean()\n",
        "    return res\n",
        "\n",
        "\n",
        "\n",
        "class BasicOpt:\n",
        "    def __init__(self, params, lr): self.params, self.lr = params, lr\n",
        "    def step(self, *args, **kwargs):\n",
        "        for layer in self.params:\n",
        "            for p in layer:\n",
        "                p.data -= p.grad * self.lr\n",
        "    def zero_grad(self):\n",
        "        for layer in self.params:\n",
        "            for p in layer:\n",
        "                p.grad = None\n",
        "\n",
        "\n",
        "\n",
        "\n",
        "class Linear:\n",
        "    def __init__(self, shape, std=1):\n",
        "        weights, bias = self.param_init(shape, std)\n",
        "\n",
        "        self.params = weights, bias\n",
        "\n",
        "    def param_init(self, shape, std=1):\n",
        "        if len(shape) == 2:\n",
        "            std = (2.0 / (shape[0] + shape[1]))**0.5\n",
        "        return tensor(torch.randn(shape)*std).requires_grad_(), tensor(torch.randn(shape[1])*std).requires_grad_()\n",
        "\n",
        "\n",
        "    def parameters(self):\n",
        "        return self.params\n",
        "\n",
        "    def predict(self, X):\n",
        "        pred = X@self.params[0] + self.params[1]\n",
        "        return pred\n",
        "\n",
        "class NonLinearity:\n",
        "    def __init__(self, act_type='ReLU'):\n",
        "        self.act_type = act_type.lower()\n",
        "        self.params = None\n",
        "\n",
        "\n",
        "    def F(self, xb):\n",
        "        if self.act_type=='relu':\n",
        "            return torch.max(tensor(0), xb)\n",
        "        if self.act_type=='sigmoid':\n",
        "            return 1/(1+(-xb).exp())\n",
        "        if self.act_type =='softmax':\n",
        "            xb = xb.exp()/xb.exp().sum(dim=1, keepdim=True)\n",
        "            return xb\n",
        "class Sequential:\n",
        "    def __init__(self, *args):\n",
        "        self.layers = args\n",
        "        self.params = [args[i].params for i in range(len(args)) if args[i].params]\n",
        "\n",
        "    def predict(self, xb):\n",
        "        preds = xb\n",
        "        for layer in self.layers:\n",
        "            #                    Linear layer        None linearity\n",
        "            preds = layer.predict(preds) if layer.params else layer.F(preds)\n",
        "        return preds\n",
        "\n",
        "\n",
        "class CustomLearner:\n",
        "    def __init__(self, dls, model, loss_func, opt_func, metrics):\n",
        "        self.train_dl = dls.train\n",
        "        self.valid_dl = dls.valid\n",
        "        self.model = model\n",
        "        self.loss_ = loss_func\n",
        "        self.opt_ = opt_func\n",
        "        self.metrics = metrics\n",
        "\n",
        "    def fit(self, epochs, lr):\n",
        "        self.opt = self.opt_(self.model.params, lr)\n",
        "        print('Epoch        train loss        Train accuracy      Valid accuracy')\n",
        "\n",
        "        for epoch in range(epochs):\n",
        "            for xb, yb in self.train_dl:\n",
        "                preds = self.model.predict(xb)\n",
        "                yb=yb.squeeze(1)\n",
        "\n",
        "                loss = self.loss_(preds, yb)\n",
        "                loss.backward()\n",
        "                self.opt.step()\n",
        "                self.opt.zero_grad()\n",
        "\n",
        "            train_acc, valid_acc = self.validate_apoch()\n",
        "\n",
        "            print(epoch,\"   \", loss.data,\"          \", train_acc,\"          \", valid_acc)\n",
        "\n",
        "    def validate_apoch(self):\n",
        "\n",
        "        valid_acc = [self.metrics(self.model.predict(xb), yb) for xb, yb in self.valid_dl]\n",
        "        train_acc = [self.metrics(self.model.predict(xb), yb) for xb, yb in self.train_dl]\n",
        "        va = round(torch.stack(valid_acc).float().mean().item(), 4)\n",
        "        ta = round(torch.stack(train_acc).float().mean().item(), 4)\n",
        "\n",
        "        return (ta, va)\n",
        "\n",
        "\n",
        "simple_net = Sequential(\n",
        "    Linear((28*28, 200)),\n",
        "    NonLinearity(),\n",
        "    Linear((200, 100)),\n",
        "    NonLinearity(),\n",
        "    Linear((100, 50)),\n",
        "    NonLinearity(),\n",
        "    Linear((50, 20)),\n",
        "    NonLinearity(),\n",
        "    Linear((20, 10)),\n",
        ")\n",
        "dls = DataLoaders(dl, valid_dl)\n",
        "learn = CustomLearner(dls=dls, model=simple_net, loss_func=F.cross_entropy, opt_func=BasicOpt, metrics=batch_accuracy)\n",
        "\n",
        "\n",
        "learn.fit(15, lr=0.005)"
      ]
    },
    {
      "cell_type": "markdown",
      "source": [
        "I trained alot of epochs here."
      ],
      "metadata": {
        "id": "5Kvx6F7ag5eB"
      },
      "id": "5Kvx6F7ag5eB"
    },
    {
      "cell_type": "code",
      "execution_count": null,
      "id": "46cbedb3-61c5-447d-a6d7-3e2d3f87cacd",
      "metadata": {
        "id": "46cbedb3-61c5-447d-a6d7-3e2d3f87cacd",
        "outputId": "032793a3-3756-4f14-c534-f0b2daf2270e"
      },
      "outputs": [
        {
          "name": "stdout",
          "output_type": "stream",
          "text": [
            "Epoch        train loss        Train accuracy      Valid accuracy\n",
            "0     tensor(0.0160)            0.8239            0.793\n",
            "1     tensor(0.0154)            0.8296            0.798\n",
            "2     tensor(0.0150)            0.8332            0.8004\n",
            "3     tensor(0.0147)            0.8364            0.8036\n",
            "4     tensor(0.0145)            0.8388            0.8066\n",
            "5     tensor(0.0144)            0.8409            0.8089\n",
            "6     tensor(0.0143)            0.8429            0.8102\n",
            "7     tensor(0.0142)            0.8449            0.8119\n",
            "8     tensor(0.0141)            0.8466            0.8135\n",
            "9     tensor(0.0140)            0.8483            0.8148\n",
            "10     tensor(0.0140)            0.8497            0.8162\n",
            "11     tensor(0.0139)            0.8508            0.8178\n",
            "12     tensor(0.0138)            0.852            0.819\n",
            "13     tensor(0.0138)            0.8534            0.8211\n",
            "14     tensor(0.0137)            0.8549            0.8229\n",
            "15     tensor(0.0136)            0.8561            0.8234\n",
            "16     tensor(0.0135)            0.8571            0.824\n",
            "17     tensor(0.0134)            0.8584            0.8255\n",
            "18     tensor(0.0134)            0.8592            0.8261\n",
            "19     tensor(0.0134)            0.8603            0.8269\n",
            "20     tensor(0.0133)            0.8615            0.8278\n",
            "21     tensor(0.0133)            0.8623            0.8286\n",
            "22     tensor(0.0133)            0.8634            0.8293\n",
            "23     tensor(0.0133)            0.8641            0.8303\n",
            "24     tensor(0.0133)            0.8649            0.831\n",
            "25     tensor(0.0133)            0.8655            0.8311\n",
            "26     tensor(0.0133)            0.8665            0.8319\n",
            "27     tensor(0.0133)            0.8675            0.8331\n",
            "28     tensor(0.0133)            0.8681            0.8335\n",
            "29     tensor(0.0133)            0.8688            0.8337\n"
          ]
        }
      ],
      "source": [
        "learn.fit(30, lr=0.002)"
      ]
    },
    {
      "cell_type": "markdown",
      "source": [
        "final test accuracy of 84% with no Convolutional NNs. so, i guess it's pretty good!"
      ],
      "metadata": {
        "id": "7t7exWjDhTpU"
      },
      "id": "7t7exWjDhTpU"
    },
    {
      "cell_type": "code",
      "execution_count": null,
      "id": "922d35c2-d681-4985-a862-f08472a68217",
      "metadata": {
        "id": "922d35c2-d681-4985-a862-f08472a68217"
      },
      "outputs": [],
      "source": []
    }
  ],
  "metadata": {
    "kernelspec": {
      "display_name": "Python 3 (ipykernel)",
      "language": "python",
      "name": "python3"
    },
    "language_info": {
      "codemirror_mode": {
        "name": "ipython",
        "version": 3
      },
      "file_extension": ".py",
      "mimetype": "text/x-python",
      "name": "python",
      "nbconvert_exporter": "python",
      "pygments_lexer": "ipython3",
      "version": "3.11.4"
    },
    "colab": {
      "provenance": []
    }
  },
  "nbformat": 4,
  "nbformat_minor": 5
}